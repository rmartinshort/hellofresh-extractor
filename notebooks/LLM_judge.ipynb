{
 "cells": [
  {
   "cell_type": "markdown",
   "id": "f6019421-0580-4100-a36b-cc7881de61bb",
   "metadata": {},
   "source": [
    "### Build LLM judge to choose which model is preferred"
   ]
  },
  {
   "cell_type": "code",
   "execution_count": null,
   "id": "dbd20ab4-d33a-474e-b6e2-6411570c59c1",
   "metadata": {},
   "outputs": [],
   "source": [
    "%load_ext autoreload\n",
    "%autoreload 2"
   ]
  },
  {
   "cell_type": "code",
   "execution_count": null,
   "id": "9892416b-af15-468c-ac04-ea3e369e1e3b",
   "metadata": {},
   "outputs": [],
   "source": [
    "import os\n",
    "from hellofresh_extractor.llm.StructuredGeminiCaller import StructuredGeminiCaller\n",
    "from hellofresh_extractor.gsuite.drive.GoogleDriveHelper import GoogleDriveHelper\n",
    "from hellofresh_extractor.llm.StructuredClaudeCaller import StructuredClaudeCaller\n",
    "from hellofresh_extractor.llm.prompts import multimodal_system_prompt, multimodal_user_query, judge_compare_prompt\n",
    "from hellofresh_extractor.llm.output_schemas import JudgeModel\n",
    "import glob\n",
    "from PIL import Image\n",
    "from pillow_heif import register_heif_opener\n",
    "from dotenv import load_dotenv\n",
    "import time\n",
    "import numpy as np\n",
    "import pandas as pd\n",
    "from pydantic import BaseModel, Field\n",
    "from collections import defaultdict\n",
    "import matplotlib.pyplot as plt\n",
    "import seaborn as sns"
   ]
  },
  {
   "cell_type": "code",
   "execution_count": null,
   "id": "b1624c26-9f97-4b63-bac2-59137804b0d7",
   "metadata": {},
   "outputs": [],
   "source": [
    "sns.set_context(\"notebook\")"
   ]
  },
  {
   "cell_type": "code",
   "execution_count": null,
   "id": "537b279b-60ae-4a36-bdb4-1a43021bf872",
   "metadata": {},
   "outputs": [],
   "source": [
    "load_dotenv()"
   ]
  },
  {
   "cell_type": "code",
   "execution_count": null,
   "id": "ea1aa352-edec-4b02-a0f8-1baf95771a8c",
   "metadata": {},
   "outputs": [],
   "source": [
    "this_path = os.getcwd()\n",
    "images_path = os.path.join(this_path,\"images\")"
   ]
  },
  {
   "cell_type": "code",
   "execution_count": null,
   "id": "534f39b2-f9ce-47a6-bbf7-1c2fa635ad16",
   "metadata": {},
   "outputs": [],
   "source": [
    "images = glob.glob(os.path.join(images_path,\"*.HEIC\"))"
   ]
  },
  {
   "cell_type": "code",
   "execution_count": null,
   "id": "53437894-a469-432c-8be5-6a90ac6fe70c",
   "metadata": {},
   "outputs": [],
   "source": [
    "dataset_compare = pd.read_csv(\"test_hello_fresh_recipes_joined.csv\")"
   ]
  },
  {
   "cell_type": "code",
   "execution_count": null,
   "id": "1707bfc0-495d-4f5e-9b66-88867f0bee20",
   "metadata": {},
   "outputs": [],
   "source": [
    "gemini_caller = StructuredGeminiCaller(\n",
    "    api_key=os.environ.get(\"GEMINI_API_KEY\"),\n",
    "    model=\"gemini-2.5-flash-preview-04-17\"\n",
    ")\n",
    "\n",
    "claude_caller = StructuredClaudeCaller(\n",
    "    api_key=os.environ.get(\"ANTHROPIC_API_KEY\"),\n",
    "    model=\"claude-3-7-sonnet-latest\"\n",
    ")"
   ]
  },
  {
   "cell_type": "code",
   "execution_count": null,
   "id": "902c2374-400e-42dd-9ed9-0d03548abf48",
   "metadata": {},
   "outputs": [],
   "source": [
    "dataset_compare.head()"
   ]
  },
  {
   "cell_type": "code",
   "execution_count": null,
   "id": "1012d0c6-da29-42c9-af26-079c0c95e1f7",
   "metadata": {},
   "outputs": [],
   "source": [
    "all_meals = []\n",
    "register_heif_opener()\n",
    "t0 = time.time()\n",
    "judge_result = defaultdict(list)\n",
    "recipe_choices = [\"recipe_local\",\"recipe_gemini\"]\n",
    "for i, row in dataset_compare.iterrows():\n",
    "    print(\"*\"*30)\n",
    "    print(f\"At image {i}\")\n",
    "    image = row[\"image_id\"]\n",
    "    recipe_choice_A = np.random.choice(np.arange(len(recipe_choices)))\n",
    "    recipe_choice_B = 0 if recipe_choice_A == 1 else 1\n",
    "    recipe_A = row[recipe_choices[recipe_choice_A]]\n",
    "    recipe_B = row[recipe_choices[recipe_choice_B]]\n",
    "\n",
    "    choice_dict = {\n",
    "        \"A\": recipe_choices[recipe_choice_A],\n",
    "        \"B\": recipe_choices[recipe_choice_B]\n",
    "    }\n",
    "\n",
    "    print(choice_dict)\n",
    "    \n",
    "    open_image = Image.open(image).convert(\"RGB\")\n",
    "\n",
    "    model_A = f\"\"\"\n",
    "    Model A's result was\n",
    "    {recipe_A}\n",
    "    \"\"\"\n",
    "\n",
    "    model_B = f\"\"\"\n",
    "    Model A's result was\n",
    "    {recipe_B}\n",
    "    \"\"\"\n",
    "    \n",
    "    # result = gemini_caller.invoke(\n",
    "    #     system_message=judge_compare_prompt,\n",
    "    #     input_content=[open_image, model_A, model_B, \"Please judge the results according to the instructions\"],\n",
    "    #     output_schema=JudgeModel\n",
    "    # )\n",
    "\n",
    "    result = claude_caller.invoke(\n",
    "        system_message=judge_compare_prompt,\n",
    "        input_content=[open_image, model_A, model_B, \"Please judge the results according to the instructions. Remember to always return valid JSON like this example {'winner':'A','reasoning':'Model A is the best'}\"],\n",
    "        output_schema=JudgeModel\n",
    "    )\n",
    "\n",
    "    if \"structured_data\" in result:\n",
    "        analysis = result[\"structured_data\"]\n",
    "        judge_result['winner'].append(choice_dict.get(analysis[\"winner\"],\"tie\"))\n",
    "        judge_result['reasoning'].append(analysis[\"reasoning\"])\n",
    "        print(analysis)\n",
    "        #df = convert_structured_result_to_df(analysis)\n",
    "        #df[\"image_path\"] = image\n",
    "        #all_meals.append(df)\n",
    "    else:\n",
    "        print(f\"Structured data field not found for result {result}\")\n",
    "t1 = time.time()\n",
    "mean_process_time = (t1 - t0)/len(images)"
   ]
  },
  {
   "cell_type": "code",
   "execution_count": null,
   "id": "fb3886fe-503a-4c6a-8c7f-0859c0132a77",
   "metadata": {},
   "outputs": [],
   "source": [
    "judge_result_pd = pd.DataFrame(judge_result)"
   ]
  },
  {
   "cell_type": "code",
   "execution_count": null,
   "id": "02478182-b3c6-48ae-9c59-efbaa1fa516e",
   "metadata": {},
   "outputs": [],
   "source": [
    "judge_result_pd.to_csv(\"test_hello_fresh_recipes_judge_result_Gemini.csv\")"
   ]
  },
  {
   "cell_type": "code",
   "execution_count": null,
   "id": "055f14d7-3532-4a12-bb2e-98d8e1626bc7",
   "metadata": {},
   "outputs": [],
   "source": [
    "judge_result_pd = pd.read_csv(\"test_hello_fresh_recipes_judge_result_Claude.csv\")"
   ]
  },
  {
   "cell_type": "code",
   "execution_count": null,
   "id": "ae64cdd8-b436-4af8-95f4-edf73c898712",
   "metadata": {},
   "outputs": [],
   "source": [
    "plt.figure(figsize=(6, 4))\n",
    "ax = sns.countplot(\n",
    "    x=\"winner\",\n",
    "    data=judge_result_pd,\n",
    "    palette=\"pastel\",\n",
    "    edgecolor=\".6\"\n",
    ")\n",
    "\n",
    "# Add value labels on top of each bar\n",
    "for p in ax.patches:\n",
    "    count = int(p.get_height())\n",
    "    ax.annotate(\n",
    "        str(count),\n",
    "        (p.get_x() + p.get_width() / 2, p.get_height()),\n",
    "        ha='center', va='bottom',\n",
    "        fontsize=12, fontweight='bold'\n",
    "    )\n",
    "\n",
    "ax.set_title(\"Judge Results: Claude as Judge\", fontsize=16, fontweight='bold')\n",
    "ax.set_xlabel(\"Winner\", fontsize=14)\n",
    "ax.set_ylabel(\"Count\", fontsize=14)\n",
    "sns.despine()\n",
    "plt.tight_layout()\n",
    "plt.show()"
   ]
  }
 ],
 "metadata": {
  "kernelspec": {
   "display_name": "Python 3 (ipykernel)",
   "language": "python",
   "name": "python3"
  },
  "language_info": {
   "codemirror_mode": {
    "name": "ipython",
    "version": 3
   },
   "file_extension": ".py",
   "mimetype": "text/x-python",
   "name": "python",
   "nbconvert_exporter": "python",
   "pygments_lexer": "ipython3",
   "version": "3.12.6"
  }
 },
 "nbformat": 4,
 "nbformat_minor": 5
}
