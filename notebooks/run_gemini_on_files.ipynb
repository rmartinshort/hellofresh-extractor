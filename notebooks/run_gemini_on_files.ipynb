{
 "cells": [
  {
   "cell_type": "markdown",
   "id": "52f3ee30-dad2-4366-8afd-0f1333e57e5a",
   "metadata": {},
   "source": [
    "## Run Gemini with structured output to get baseline results"
   ]
  },
  {
   "cell_type": "code",
   "execution_count": 16,
   "id": "f3d2a6c5-00d5-4a11-99b8-a2470cc9bc6a",
   "metadata": {},
   "outputs": [
    {
     "name": "stdout",
     "output_type": "stream",
     "text": [
      "The autoreload extension is already loaded. To reload it, use:\n",
      "  %reload_ext autoreload\n"
     ]
    }
   ],
   "source": [
    "%load_ext autoreload\n",
    "%autoreload 2"
   ]
  },
  {
   "cell_type": "code",
   "execution_count": 17,
   "id": "6fc66c39-dc4f-47b3-8e9c-9fb01fdb9123",
   "metadata": {},
   "outputs": [],
   "source": [
    "import os\n",
    "from hellofresh_extractor.llm.StructuredGeminiCaller import StructuredGeminiCaller\n",
    "from hellofresh_extractor.llm.utils import convert_structured_result_to_df\n",
    "from hellofresh_extractor.llm.prompts import multimodal_system_prompt, multimodal_user_query\n",
    "from hellofresh_extractor.llm.output_schemas import ExtractedMeal\n",
    "from hellofresh_extractor.gsuite.drive.GoogleDriveHelper import GoogleDriveHelper\n",
    "import glob\n",
    "from PIL import Image\n",
    "from pillow_heif import register_heif_opener\n",
    "from dotenv import load_dotenv\n",
    "import time\n",
    "import pandas as pd"
   ]
  },
  {
   "cell_type": "code",
   "execution_count": 18,
   "id": "a626764e-a031-4a1a-9077-1b16474fc434",
   "metadata": {},
   "outputs": [],
   "source": [
    "master_folder_name = \"Recipes\"\n",
    "drive_helper = GoogleDriveHelper(f\"{master_folder_name}\")"
   ]
  },
  {
   "cell_type": "code",
   "execution_count": 19,
   "id": "eb4d4d22-b78d-4461-a18a-b5bdee611b6c",
   "metadata": {},
   "outputs": [],
   "source": [
    "top_level_drive_folder_id = drive_helper.get_folder_id()"
   ]
  },
  {
   "cell_type": "code",
   "execution_count": 20,
   "id": "6bb69dff-b99a-4aea-869f-28079f618c16",
   "metadata": {},
   "outputs": [
    {
     "data": {
      "text/plain": [
       "True"
      ]
     },
     "execution_count": 20,
     "metadata": {},
     "output_type": "execute_result"
    }
   ],
   "source": [
    "load_dotenv()"
   ]
  },
  {
   "cell_type": "code",
   "execution_count": 21,
   "id": "f01831ff-c55c-4cee-992b-6976b1009e99",
   "metadata": {},
   "outputs": [],
   "source": [
    "this_path = os.getcwd()\n",
    "images_path = os.path.join(this_path,\"images\")"
   ]
  },
  {
   "cell_type": "code",
   "execution_count": 22,
   "id": "1be75769-7f6f-48eb-89f5-e0046bd3e752",
   "metadata": {},
   "outputs": [],
   "source": [
    "images = glob.glob(os.path.join(images_path,\"*.HEIC\"))"
   ]
  },
  {
   "cell_type": "code",
   "execution_count": 23,
   "id": "53c47ac7-43f9-4c0e-9dae-2aad0c2246c2",
   "metadata": {},
   "outputs": [],
   "source": [
    "gemini_caller = StructuredGeminiCaller(\n",
    "    api_key=os.environ.get(\"GEMINI_API_KEY\"),\n",
    "    model=\"gemini-2.5-flash-preview-04-17\"\n",
    ")"
   ]
  },
  {
   "cell_type": "code",
   "execution_count": 24,
   "id": "640b4055-70f4-4943-a4e8-e23369659ece",
   "metadata": {},
   "outputs": [
    {
     "data": {
      "text/plain": [
       "50"
      ]
     },
     "execution_count": 24,
     "metadata": {},
     "output_type": "execute_result"
    }
   ],
   "source": [
    "len(images)"
   ]
  },
  {
   "cell_type": "code",
   "execution_count": 25,
   "id": "125e4dd0-38f7-46e3-88a3-99e7b04c6547",
   "metadata": {},
   "outputs": [
    {
     "name": "stdout",
     "output_type": "stream",
     "text": [
      "******************************\n",
      "At image 0\n",
      "******************************\n",
      "At image 1\n",
      "******************************\n",
      "At image 2\n",
      "******************************\n",
      "At image 3\n",
      "******************************\n",
      "At image 4\n",
      "******************************\n",
      "At image 5\n",
      "******************************\n",
      "At image 6\n",
      "******************************\n",
      "At image 7\n",
      "******************************\n",
      "At image 8\n",
      "******************************\n",
      "At image 9\n",
      "******************************\n",
      "At image 10\n",
      "******************************\n",
      "At image 11\n",
      "******************************\n",
      "At image 12\n",
      "******************************\n",
      "At image 13\n",
      "******************************\n",
      "At image 14\n",
      "******************************\n",
      "At image 15\n",
      "******************************\n",
      "At image 16\n",
      "******************************\n",
      "At image 17\n",
      "******************************\n",
      "At image 18\n",
      "******************************\n",
      "At image 19\n",
      "Error parsing structured output: 1 validation error for ExtractedMeal\n",
      "  Invalid JSON: EOF while parsing a value at line 1 column 0 [type=json_invalid, input_value='', input_type=str]\n",
      "    For further information visit https://errors.pydantic.dev/2.11/v/json_invalid\n",
      "Structured data field not found for result {'candidates': [{'content': {'parts': [{'video_metadata': None, 'thought': None, 'code_execution_result': None, 'executable_code': None, 'file_data': None, 'function_call': None, 'function_response': None, 'inline_data': None, 'text': ''}], 'role': 'model'}, 'citation_metadata': None, 'finish_message': None, 'token_count': None, 'finish_reason': 'MAX_TOKENS', 'avg_logprobs': None, 'grounding_metadata': None, 'index': 0, 'logprobs_result': None, 'safety_ratings': None}], 'create_time': None, 'response_id': None, 'model_version': 'models/gemini-2.5-flash-preview-04-17', 'prompt_feedback': None, 'usage_metadata': {'cache_tokens_details': None, 'cached_content_token_count': None, 'candidates_token_count': None, 'candidates_tokens_details': None, 'prompt_token_count': 540, 'prompt_tokens_details': [{'modality': 'TEXT', 'token_count': 282}, {'modality': 'IMAGE', 'token_count': 258}], 'thoughts_token_count': None, 'tool_use_prompt_token_count': None, 'tool_use_prompt_tokens_details': None, 'total_token_count': 540, 'traffic_type': None}, 'automatic_function_calling_history': [], 'parsed': None}\n",
      "******************************\n",
      "At image 20\n",
      "******************************\n",
      "At image 21\n",
      "******************************\n",
      "At image 22\n",
      "******************************\n",
      "At image 23\n",
      "******************************\n",
      "At image 24\n",
      "******************************\n",
      "At image 25\n",
      "******************************\n",
      "At image 26\n",
      "******************************\n",
      "At image 27\n",
      "******************************\n",
      "At image 28\n",
      "******************************\n",
      "At image 29\n",
      "******************************\n",
      "At image 30\n",
      "******************************\n",
      "At image 31\n",
      "******************************\n",
      "At image 32\n",
      "******************************\n",
      "At image 33\n",
      "******************************\n",
      "At image 34\n",
      "******************************\n",
      "At image 35\n",
      "******************************\n",
      "At image 36\n",
      "******************************\n",
      "At image 37\n",
      "******************************\n",
      "At image 38\n",
      "******************************\n",
      "At image 39\n",
      "******************************\n",
      "At image 40\n",
      "******************************\n",
      "At image 41\n",
      "******************************\n",
      "At image 42\n",
      "******************************\n",
      "At image 43\n",
      "******************************\n",
      "At image 44\n",
      "******************************\n",
      "At image 45\n",
      "******************************\n",
      "At image 46\n",
      "******************************\n",
      "At image 47\n",
      "******************************\n",
      "At image 48\n",
      "******************************\n",
      "At image 49\n"
     ]
    }
   ],
   "source": [
    "all_meals = []\n",
    "register_heif_opener()\n",
    "t0 = time.time()\n",
    "for i, image in enumerate(images):\n",
    "    print(\"*\"*30)\n",
    "    print(f\"At image {i}\")\n",
    "    open_image = Image.open(image).convert(\"RGB\")\n",
    "    result = gemini_caller.invoke(\n",
    "        system_message=multimodal_system_prompt,\n",
    "        input_content=[open_image, multimodal_user_query],\n",
    "        output_schema=ExtractedMeal\n",
    "    )\n",
    "\n",
    "    if \"structured_data\" in result:\n",
    "        analysis = result[\"structured_data\"]\n",
    "        df = convert_structured_result_to_df(analysis)\n",
    "        df[\"image_path\"] = image\n",
    "        all_meals.append(df)\n",
    "    else:\n",
    "        print(f\"Structured data field not found for result {result}\")\n",
    "t1 = time.time()\n",
    "mean_process_time = (t1 - t0)/len(images)"
   ]
  },
  {
   "cell_type": "code",
   "execution_count": 26,
   "id": "7dbc8e66-c637-4403-b4d5-42d9d6f84816",
   "metadata": {},
   "outputs": [
    {
     "data": {
      "text/plain": [
       "2.9893046951293947"
      ]
     },
     "execution_count": 26,
     "metadata": {},
     "output_type": "execute_result"
    }
   ],
   "source": [
    "mean_process_time"
   ]
  },
  {
   "cell_type": "code",
   "execution_count": 27,
   "id": "e13f7dec-0c22-4974-8991-b26978992054",
   "metadata": {},
   "outputs": [],
   "source": [
    "all_meals = pd.concat(all_meals)"
   ]
  },
  {
   "cell_type": "code",
   "execution_count": 29,
   "id": "b56be48d-8439-4a62-85ce-6e01a8d23095",
   "metadata": {},
   "outputs": [],
   "source": [
    "all_meals.to_csv(\"test_hello_fresh_recipes_gemini.csv\",index=False)"
   ]
  },
  {
   "cell_type": "code",
   "execution_count": 30,
   "id": "f018c196-2155-4a69-b5b4-df52969d5cf6",
   "metadata": {},
   "outputs": [
    {
     "name": "stdout",
     "output_type": "stream",
     "text": [
      "Uploaded 'test_hello_fresh_recipes_gemini.csv' to Google Drive (ID: 13BUbs2JTdNDGo66lwkYj9atJlnay_Df2)\n"
     ]
    },
    {
     "data": {
      "text/plain": [
       "{'id': '13BUbs2JTdNDGo66lwkYj9atJlnay_Df2',\n",
       " 'name': 'test_hello_fresh_recipes_gemini.csv'}"
      ]
     },
     "execution_count": 30,
     "metadata": {},
     "output_type": "execute_result"
    }
   ],
   "source": [
    "drive_helper.upload_csv_file(file_path=\"test_hello_fresh_recipes_gemini.csv\",parent_folder_id=top_level_drive_folder_id)"
   ]
  },
  {
   "cell_type": "code",
   "execution_count": null,
   "id": "5367666a-08e8-4cb5-86f0-7ae578f6f3d7",
   "metadata": {},
   "outputs": [],
   "source": []
  }
 ],
 "metadata": {
  "kernelspec": {
   "display_name": "Python 3 (ipykernel)",
   "language": "python",
   "name": "python3"
  },
  "language_info": {
   "codemirror_mode": {
    "name": "ipython",
    "version": 3
   },
   "file_extension": ".py",
   "mimetype": "text/x-python",
   "name": "python",
   "nbconvert_exporter": "python",
   "pygments_lexer": "ipython3",
   "version": "3.12.6"
  }
 },
 "nbformat": 4,
 "nbformat_minor": 5
}
