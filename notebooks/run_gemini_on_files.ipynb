{
 "cells": [
  {
   "cell_type": "markdown",
   "id": "52f3ee30-dad2-4366-8afd-0f1333e57e5a",
   "metadata": {},
   "source": [
    "## Run Gemini with structured output to get baseline results"
   ]
  },
  {
   "cell_type": "code",
   "execution_count": null,
   "id": "f3d2a6c5-00d5-4a11-99b8-a2470cc9bc6a",
   "metadata": {},
   "outputs": [],
   "source": [
    "%load_ext autoreload\n",
    "%autoreload 2"
   ]
  },
  {
   "cell_type": "code",
   "execution_count": null,
   "id": "6fc66c39-dc4f-47b3-8e9c-9fb01fdb9123",
   "metadata": {},
   "outputs": [],
   "source": [
    "import os\n",
    "from hellofresh_extractor.llm.StructuredGeminiCaller import StructuredGeminiCaller\n",
    "from hellofresh_extractor.llm.utils import convert_structured_result_to_df\n",
    "from hellofresh_extractor.llm.prompts import multimodal_system_prompt, multimodal_user_query\n",
    "from hellofresh_extractor.llm.output_schemas import ExtractedMeal\n",
    "from hellofresh_extractor.gsuite.drive.GoogleDriveHelper import GoogleDriveHelper\n",
    "import glob\n",
    "from PIL import Image\n",
    "from pillow_heif import register_heif_opener\n",
    "from dotenv import load_dotenv\n",
    "import time\n",
    "import pandas as pd"
   ]
  },
  {
   "cell_type": "code",
   "execution_count": null,
   "id": "a626764e-a031-4a1a-9077-1b16474fc434",
   "metadata": {},
   "outputs": [],
   "source": [
    "master_folder_name = \"Recipes\"\n",
    "drive_helper = GoogleDriveHelper(f\"{master_folder_name}\")"
   ]
  },
  {
   "cell_type": "code",
   "execution_count": null,
   "id": "eb4d4d22-b78d-4461-a18a-b5bdee611b6c",
   "metadata": {},
   "outputs": [],
   "source": [
    "top_level_drive_folder_id = drive_helper.get_folder_id()"
   ]
  },
  {
   "cell_type": "code",
   "execution_count": null,
   "id": "6bb69dff-b99a-4aea-869f-28079f618c16",
   "metadata": {},
   "outputs": [],
   "source": [
    "load_dotenv()"
   ]
  },
  {
   "cell_type": "code",
   "execution_count": null,
   "id": "f01831ff-c55c-4cee-992b-6976b1009e99",
   "metadata": {},
   "outputs": [],
   "source": [
    "this_path = os.getcwd()\n",
    "images_path = os.path.join(this_path,\"images\")"
   ]
  },
  {
   "cell_type": "code",
   "execution_count": null,
   "id": "1be75769-7f6f-48eb-89f5-e0046bd3e752",
   "metadata": {},
   "outputs": [],
   "source": [
    "images = glob.glob(os.path.join(images_path,\"*.HEIC\"))"
   ]
  },
  {
   "cell_type": "code",
   "execution_count": null,
   "id": "53c47ac7-43f9-4c0e-9dae-2aad0c2246c2",
   "metadata": {},
   "outputs": [],
   "source": [
    "gemini_caller = StructuredGeminiCaller(\n",
    "    api_key=os.environ.get(\"GEMINI_API_KEY\"),\n",
    "    model=\"gemini-2.5-flash-preview-04-17\"\n",
    ")"
   ]
  },
  {
   "cell_type": "code",
   "execution_count": null,
   "id": "640b4055-70f4-4943-a4e8-e23369659ece",
   "metadata": {},
   "outputs": [],
   "source": [
    "len(images)"
   ]
  },
  {
   "cell_type": "code",
   "execution_count": null,
   "id": "125e4dd0-38f7-46e3-88a3-99e7b04c6547",
   "metadata": {},
   "outputs": [],
   "source": [
    "all_meals = []\n",
    "register_heif_opener()\n",
    "t0 = time.time()\n",
    "for i, image in enumerate(images):\n",
    "    print(\"*\"*30)\n",
    "    print(f\"At image {i}\")\n",
    "    open_image = Image.open(image).convert(\"RGB\")\n",
    "    result = gemini_caller.invoke(\n",
    "        system_message=multimodal_system_prompt,\n",
    "        input_content=[open_image, multimodal_user_query],\n",
    "        output_schema=ExtractedMeal\n",
    "    )\n",
    "\n",
    "    if \"structured_data\" in result:\n",
    "        analysis = result[\"structured_data\"]\n",
    "        df = convert_structured_result_to_df(analysis)\n",
    "        df[\"image_path\"] = image\n",
    "        all_meals.append(df)\n",
    "    else:\n",
    "        print(f\"Structured data field not found for result {result}\")\n",
    "t1 = time.time()\n",
    "mean_process_time = (t1 - t0)/len(images)"
   ]
  },
  {
   "cell_type": "code",
   "execution_count": null,
   "id": "7dbc8e66-c637-4403-b4d5-42d9d6f84816",
   "metadata": {},
   "outputs": [],
   "source": [
    "mean_process_time"
   ]
  },
  {
   "cell_type": "code",
   "execution_count": null,
   "id": "e13f7dec-0c22-4974-8991-b26978992054",
   "metadata": {},
   "outputs": [],
   "source": [
    "all_meals = pd.concat(all_meals)"
   ]
  },
  {
   "cell_type": "code",
   "execution_count": null,
   "id": "b56be48d-8439-4a62-85ce-6e01a8d23095",
   "metadata": {},
   "outputs": [],
   "source": [
    "all_meals.to_csv(\"test_hello_fresh_recipes_gemini.csv\",index=False)"
   ]
  },
  {
   "cell_type": "code",
   "execution_count": null,
   "id": "f018c196-2155-4a69-b5b4-df52969d5cf6",
   "metadata": {},
   "outputs": [],
   "source": [
    "drive_helper.upload_csv_file(file_path=\"test_hello_fresh_recipes_gemini.csv\",parent_folder_id=top_level_drive_folder_id)"
   ]
  },
  {
   "cell_type": "code",
   "execution_count": null,
   "id": "5367666a-08e8-4cb5-86f0-7ae578f6f3d7",
   "metadata": {},
   "outputs": [],
   "source": []
  }
 ],
 "metadata": {
  "kernelspec": {
   "display_name": "Python 3 (ipykernel)",
   "language": "python",
   "name": "python3"
  },
  "language_info": {
   "codemirror_mode": {
    "name": "ipython",
    "version": 3
   },
   "file_extension": ".py",
   "mimetype": "text/x-python",
   "name": "python",
   "nbconvert_exporter": "python",
   "pygments_lexer": "ipython3",
   "version": "3.12.6"
  }
 },
 "nbformat": 4,
 "nbformat_minor": 5
}
