{
 "cells": [
  {
   "cell_type": "markdown",
   "id": "5824e00c-b55c-444e-92ba-739a6f5986bf",
   "metadata": {},
   "source": [
    "## Connect to google drive and download images"
   ]
  },
  {
   "cell_type": "code",
   "execution_count": 10,
   "id": "3bbcc46f-b9b7-416b-9c0a-fc14ac3b8697",
   "metadata": {},
   "outputs": [
    {
     "name": "stdout",
     "output_type": "stream",
     "text": [
      "The autoreload extension is already loaded. To reload it, use:\n",
      "  %reload_ext autoreload\n"
     ]
    }
   ],
   "source": [
    "%load_ext autoreload\n",
    "%autoreload 2"
   ]
  },
  {
   "cell_type": "code",
   "execution_count": 11,
   "id": "923d9f0c-675b-45e3-b826-2a813dcce5e5",
   "metadata": {},
   "outputs": [],
   "source": [
    "from hellofresh_extractor.gsuite.drive.GoogleDriveHelper import GoogleDriveHelper\n",
    "import os"
   ]
  },
  {
   "cell_type": "code",
   "execution_count": 12,
   "id": "fe89f94f-a47d-48c0-8d09-4913ea80ea0c",
   "metadata": {},
   "outputs": [],
   "source": [
    "this_path = os.getcwd()"
   ]
  },
  {
   "cell_type": "code",
   "execution_count": 13,
   "id": "54a1e770-19f0-4953-8c4a-dcf4b4e48e0b",
   "metadata": {},
   "outputs": [],
   "source": [
    "master_folder_name = \"Recipes\" #this is the name of the Gdrive folder that you shared with your service account\n",
    "drive_helper = GoogleDriveHelper(f\"{master_folder_name}\")"
   ]
  },
  {
   "cell_type": "code",
   "execution_count": 14,
   "id": "82067a74-cc11-4004-88fb-9a6fc429865e",
   "metadata": {},
   "outputs": [
    {
     "data": {
      "text/plain": [
       "[{'id': '1Lz-99XwRx00NvljboDhtBXQBWUEA_oqC', 'name': 'HelloFreshImages'}]"
      ]
     },
     "execution_count": 14,
     "metadata": {},
     "output_type": "execute_result"
    }
   ],
   "source": [
    "drive_helper.get_folder_id_from_name(\"HelloFreshImages\")"
   ]
  },
  {
   "cell_type": "code",
   "execution_count": 15,
   "id": "5d1d01c1-870b-4315-ad03-575c6b87fc9a",
   "metadata": {},
   "outputs": [],
   "source": [
    "heic_files = drive_helper.download_image_files(\n",
    "    folder_id = \"1Lz-99XwRx00NvljboDhtBXQBWUEA_oqC\", \n",
    "    download_path = os.path.join(this_path,\"images\")\n",
    ")"
   ]
  }
 ],
 "metadata": {
  "kernelspec": {
   "display_name": "Python 3 (ipykernel)",
   "language": "python",
   "name": "python3"
  },
  "language_info": {
   "codemirror_mode": {
    "name": "ipython",
    "version": 3
   },
   "file_extension": ".py",
   "mimetype": "text/x-python",
   "name": "python",
   "nbconvert_exporter": "python",
   "pygments_lexer": "ipython3",
   "version": "3.12.6"
  }
 },
 "nbformat": 4,
 "nbformat_minor": 5
}
