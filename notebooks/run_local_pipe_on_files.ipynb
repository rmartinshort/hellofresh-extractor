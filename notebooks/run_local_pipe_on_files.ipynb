{
 "cells": [
  {
   "cell_type": "markdown",
   "id": "c406cb86-a55f-47e1-b800-7b5388c82f8c",
   "metadata": {},
   "source": [
    "## Run the local LLM pipeline to get structured output"
   ]
  },
  {
   "cell_type": "code",
   "execution_count": null,
   "id": "2b146eee-e7fb-4cee-b84a-e3d384894768",
   "metadata": {},
   "outputs": [],
   "source": [
    "%load_ext autoreload\n",
    "%autoreload 2"
   ]
  },
  {
   "cell_type": "code",
   "execution_count": null,
   "id": "27e41c4a-9308-4b82-979c-2ad677a5315f",
   "metadata": {},
   "outputs": [],
   "source": [
    "import glob\n",
    "import os\n",
    "from PIL import Image\n",
    "from pillow_heif import register_heif_opener\n",
    "from dotenv import load_dotenv\n",
    "import pandas as pd\n",
    "import time\n",
    "\n",
    "import tempfile\n",
    "import torch\n",
    "import pandas as pd\n",
    "import outlines\n",
    "from transformers import pipeline\n",
    "\n",
    "from hellofresh_extractor.llm.prompts import multimodal_system_prompt, multimodal_user_query, structured_system_prompt\n",
    "from hellofresh_extractor.llm.utils import convert_structured_result_to_df\n",
    "from hellofresh_extractor.llm.output_schemas import ExtractedMeal\n",
    "from hellofresh_extractor.gsuite.drive.GoogleDriveHelper import GoogleDriveHelper\n",
    "from hellofresh_extractor.llm.MultiModalModel import MultiModalModel\n",
    "from hellofresh_extractor.llm.StructuredOutputModel import StructuredOutputModel"
   ]
  },
  {
   "cell_type": "code",
   "execution_count": null,
   "id": "31862188-69d5-4b4c-9ac7-db22874ff514",
   "metadata": {},
   "outputs": [],
   "source": [
    "load_dotenv()"
   ]
  },
  {
   "cell_type": "code",
   "execution_count": null,
   "id": "b76c0129-fd5f-4ce5-88d8-36de8da174a3",
   "metadata": {},
   "outputs": [],
   "source": [
    "multimodal_pipe = pipeline(\n",
    "    \"image-text-to-text\",\n",
    "    model=\"google/gemma-3-4b-it\",\n",
    "    device=\"mps\",\n",
    "    torch_dtype=torch.bfloat16,\n",
    "    token=os.environ.get('HF_TOKEN'),\n",
    "    use_fast=True\n",
    ")\n",
    "structured_model = outlines.models.transformers(\n",
    "    \"HuggingFaceTB/SmolLM2-1.7B-Instruct\", \n",
    "    device=\"mps\",\n",
    "    model_kwargs = {\"temperature\": 0.1, \"do_sample\": True}\n",
    ")"
   ]
  },
  {
   "cell_type": "code",
   "execution_count": null,
   "id": "4693f73c-20f4-4df9-9924-916c25153649",
   "metadata": {},
   "outputs": [],
   "source": [
    "multimodal_model_caller = MultiModalModel(\n",
    "    model_pipe = multimodal_pipe\n",
    ")\n",
    "structured_model_caller = StructuredOutputModel(\n",
    "    model=structured_model,\n",
    "    outputmodel=ExtractedMeal\n",
    ")"
   ]
  },
  {
   "cell_type": "code",
   "execution_count": null,
   "id": "f4087ca8-55bc-4c17-b758-ff5eaeffe756",
   "metadata": {},
   "outputs": [],
   "source": [
    "this_path = os.getcwd()\n",
    "images_path = os.path.join(this_path,\"images\")\n",
    "images = glob.glob(os.path.join(images_path,\"*.HEIC\"))"
   ]
  },
  {
   "cell_type": "code",
   "execution_count": null,
   "id": "59448496-c931-44b2-ab2f-63db050b28a2",
   "metadata": {},
   "outputs": [],
   "source": [
    "all_meals = []\n",
    "register_heif_opener()\n",
    "t0 = time.time()\n",
    "for i, image in enumerate(images):\n",
    "    print(f\"At image {i}\")\n",
    "    \n",
    "    open_image = Image.open(image).convert(\"RGB\")\n",
    "    with tempfile.NamedTemporaryFile(suffix='.jpg', delete=False) as temp_file:\n",
    "        temp_filename = temp_file.name\n",
    "        open_image.save(temp_filename, format=\"JPEG\")\n",
    "    \n",
    "        user_message = [\n",
    "            {\"type\": \"image\", \"image\": temp_filename}, \n",
    "            {\"type\": \"text\", \"text\": multimodal_user_query}\n",
    "        ]\n",
    "    \n",
    "        print(\"Running multimodal model\")\n",
    "        try:\n",
    "            multimodal_result = multimodal_model_caller.invoke(\n",
    "                system_message = multimodal_system_prompt, \n",
    "                user_messages = user_message\n",
    "            )\n",
    "            multimodal_extracted_text = multimodal_result[0][\"generated_text\"]\n",
    "        except Exception as e:\n",
    "            print(\"Error in multimodal model inference: {}\".format(e))\n",
    "\n",
    "    print(\"Running structured output model\")\n",
    "    try:\n",
    "        structured_result = structured_model_caller.invoke(\n",
    "            system_message = structured_system_prompt, \n",
    "            text_to_extract = multimodal_extracted_text,\n",
    "            user_query = multimodal_user_query\n",
    "        )\n",
    "        df = convert_structured_result_to_df(structured_result)\n",
    "        df[\"image_path\"] = image\n",
    "        all_meals.append(df)\n",
    "    except Exception as e:\n",
    "        print(\"Error in structured model inference: {}\".format(e))\n",
    "t1 = time.time()\n",
    "mean_process_time = (t1-t0)/len(images)"
   ]
  },
  {
   "cell_type": "code",
   "execution_count": null,
   "id": "53ffd0d9-c03f-4bab-8ed5-610dd8bdf9d5",
   "metadata": {},
   "outputs": [],
   "source": [
    "mean_process_time"
   ]
  },
  {
   "cell_type": "code",
   "execution_count": null,
   "id": "71ff3c58-dc69-46df-8a25-719d40eebd3f",
   "metadata": {},
   "outputs": [],
   "source": [
    "all_meals = pd.concat(all_meals)"
   ]
  },
  {
   "cell_type": "code",
   "execution_count": null,
   "id": "93862908-c94b-40dd-9731-9612d1da8819",
   "metadata": {},
   "outputs": [],
   "source": [
    "all_meals.to_csv(\"test_hello_fresh_recipes_local.csv\",index=False)"
   ]
  },
  {
   "cell_type": "code",
   "execution_count": null,
   "id": "efc12894-e7ff-45e5-981a-9ba82205c356",
   "metadata": {},
   "outputs": [],
   "source": [
    "all_meals"
   ]
  },
  {
   "cell_type": "code",
   "execution_count": null,
   "id": "67c594b6-143f-46ee-ac9a-2d3bf380591e",
   "metadata": {},
   "outputs": [],
   "source": []
  }
 ],
 "metadata": {
  "kernelspec": {
   "display_name": "Python 3 (ipykernel)",
   "language": "python",
   "name": "python3"
  },
  "language_info": {
   "codemirror_mode": {
    "name": "ipython",
    "version": 3
   },
   "file_extension": ".py",
   "mimetype": "text/x-python",
   "name": "python",
   "nbconvert_exporter": "python",
   "pygments_lexer": "ipython3",
   "version": "3.12.6"
  }
 },
 "nbformat": 4,
 "nbformat_minor": 5
}
